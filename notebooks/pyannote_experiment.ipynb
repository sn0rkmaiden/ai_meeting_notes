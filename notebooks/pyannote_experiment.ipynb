{
 "cells": [
  {
   "cell_type": "code",
   "execution_count": 37,
   "id": "ecc02917-77c3-4f4d-84cb-35c34048cbda",
   "metadata": {},
   "outputs": [],
   "source": [
    "import os\n",
    "from pyannote.audio import Pipeline\n",
    "import random\n",
    "import wget\n",
    "from pathlib import Path\n",
    "from hashlib import md5\n",
    "import gzip\n",
    "import shutil\n",
    "import tarfile\n",
    "import pandas as pd\n",
    "import torchaudio\n",
    "import torch\n",
    "from torchmetrics.text import WordErrorRate\n",
    "from IPython.display import Audio\n",
    "import torchaudio.functional as audio_func\n",
    "from pyannote.core import notebook, Annotation, Segment, Timeline\n",
    "from pyannote.metrics.segmentation import SegmentationCoverage, SegmentationPurity, SegmentationPrecision, SegmentationRecall\n",
    "from pyannote.metrics.identification import IdentificationPrecision, IdentificationRecall, IdentificationErrorRate\n",
    "from transformers import AutoModelForSpeechSeq2Seq, AutoProcessor, pipeline\n",
    "from matplotlib import pyplot as plt\n",
    "from tqdm.notebook import tqdm\n",
    "from nltk import word_tokenize\n",
    "import string"
   ]
  },
  {
   "cell_type": "code",
   "execution_count": 2,
   "id": "bda3813d-5dbe-4baa-a069-4b48c8c56ec2",
   "metadata": {},
   "outputs": [],
   "source": [
    "random.seed(1337)"
   ]
  },
  {
   "cell_type": "code",
   "execution_count": 3,
   "id": "fa1f0282-4e4b-4a2c-a295-6c0a38b8f440",
   "metadata": {},
   "outputs": [],
   "source": [
    "hf_token = os.environ[\"HUGGING_FACE_TOKEN\"]"
   ]
  },
  {
   "cell_type": "code",
   "execution_count": 4,
   "id": "9b031db8-0362-4e82-ba9e-902adc256e16",
   "metadata": {},
   "outputs": [],
   "source": [
    "default_sample_rate = 16000"
   ]
  },
  {
   "cell_type": "code",
   "execution_count": 5,
   "id": "ef45ae4e-eadc-4391-aeb5-edea8ff1adbe",
   "metadata": {},
   "outputs": [],
   "source": [
    "dataset_base_path = \"cv-corpus-21.0-2025-03-14-ru/cv-corpus-21.0-2025-03-14/ru/\"\n",
    "clips_path = dataset_base_path + \"clips/\"\n",
    "test_csv_path = dataset_base_path + \"test.tsv\"\n",
    "invalidated_csv_path = dataset_base_path + \"invalidated.tsv\""
   ]
  },
  {
   "cell_type": "code",
   "execution_count": 6,
   "id": "b4717824-6454-47f7-81c4-09b80a609edb",
   "metadata": {},
   "outputs": [],
   "source": [
    "files = pd.read_csv(test_csv_path, sep=\"\\t\")\n",
    "invalidated = pd.read_csv(invalidated_csv_path, sep=\"\\t\")\n",
    "invalidated_ids = set(invalidated[\"client_id\"])\n",
    "files = files[~files[\"client_id\"].isin(invalidated_ids)]"
   ]
  },
  {
   "cell_type": "code",
   "execution_count": 7,
   "id": "f4348d6e-6ef7-44a5-a4ac-3dcde326bc78",
   "metadata": {},
   "outputs": [],
   "source": [
    "# About half an hour \n",
    "sample_count = 400\n",
    "files = files.sample(sample_count)"
   ]
  },
  {
   "cell_type": "code",
   "execution_count": 8,
   "id": "ac50a74c-c468-43a6-a7e7-b27367b2c85d",
   "metadata": {},
   "outputs": [],
   "source": [
    "def load_audio(file, target_sample_rate=default_sample_rate, **kwargs):\n",
    "    tensor, sample_rate = torchaudio.load(file)\n",
    "    tensor /= tensor.abs().max()\n",
    "    return audio_func.resample(tensor, sample_rate, target_sample_rate) "
   ]
  },
  {
   "cell_type": "code",
   "execution_count": 9,
   "id": "bcb48558-0a71-46e8-92e8-9f57f297a265",
   "metadata": {},
   "outputs": [],
   "source": [
    "waveforms = [(row[\"sentence\"], load_audio(clips_path + row[\"path\"]), row[\"client_id\"]) for idx, row in files.iterrows()]"
   ]
  },
  {
   "cell_type": "code",
   "execution_count": 10,
   "id": "f84ca75e-cfd7-4a29-8ad1-2ab83b3155b1",
   "metadata": {},
   "outputs": [
    {
     "name": "stdout",
     "output_type": "stream",
     "text": [
      "GPU: NVIDIA GeForce GTX 1050 Ti is available.\n"
     ]
    }
   ],
   "source": [
    "if torch.cuda.is_available():\n",
    "    device = torch.device(\"cuda\")\n",
    "    print(f\"GPU: {torch.cuda.get_device_name(0)} is available.\")\n",
    "else:\n",
    "    device = torch.device(\"cpu\")\n",
    "    print(\"No GPU available. Training will run on CPU.\")"
   ]
  },
  {
   "cell_type": "code",
   "execution_count": 11,
   "id": "4e23a399-eb5a-43e3-a234-d33af7c684ac",
   "metadata": {},
   "outputs": [
    {
     "name": "stderr",
     "output_type": "stream",
     "text": [
      "INFO:speechbrain.utils.quirks:Applied quirks (see `speechbrain.utils.quirks`): [allow_tf32, disable_jit_profiling]\n",
      "INFO:speechbrain.utils.quirks:Excluded quirks specified by the `SB_DISABLE_QUIRKS` environment (comma-separated list): []\n",
      "/home/lemon/.local/lib/python3.13/site-packages/pytorch_lightning/utilities/migration/migration.py:208: You have multiple `ModelCheckpoint` callback states in this checkpoint, but we found state keys that would end up colliding with each other after an upgrade, which means we can't differentiate which of your checkpoint callbacks needs which states. At least one of your `ModelCheckpoint` callbacks will not be able to reload the state.\n",
      "Lightning automatically upgraded your loaded checkpoint from v1.1.3 to v2.5.1. To apply the upgrade to your files permanently, run `python -m pytorch_lightning.utilities.upgrade_checkpoint ../../.cache/torch/pyannote/models--pyannote--segmentation/snapshots/059e96f964841d40f1a5e755bb7223f76666bba4/pytorch_model.bin`\n"
     ]
    },
    {
     "name": "stdout",
     "output_type": "stream",
     "text": [
      "Model was trained with pyannote.audio 0.0.1, yours is 3.3.2. Bad things might happen unless you revert pyannote.audio to 0.x.\n",
      "Model was trained with torch 1.7.1, yours is 2.6.0+cu124. Bad things might happen unless you revert torch to 1.x.\n"
     ]
    }
   ],
   "source": [
    "vad = Pipeline.from_pretrained(\"pyannote/voice-activity-detection\", use_auth_token=hf_token).to(device)\n",
    "initial_params = {\"onset\": 0.4, \"offset\": 0.3, \"min_duration_on\": 0.0, \"min_duration_off\": 0.1}\n",
    "vad.instantiate(initial_params);"
   ]
  },
  {
   "cell_type": "code",
   "execution_count": 12,
   "id": "5cffa626-049a-46ab-8661-5ec8457ac3dc",
   "metadata": {},
   "outputs": [],
   "source": [
    "def has_repeating_speakers(ls):\n",
    "    for i in range(len(ls) - 1):\n",
    "        if ls[i][2] == ls[i + 1][2]:\n",
    "            return True\n",
    "    return False"
   ]
  },
  {
   "cell_type": "code",
   "execution_count": 13,
   "id": "cb08587a-06cf-4cde-9c9f-6546a5d252a4",
   "metadata": {},
   "outputs": [],
   "source": [
    "while has_repeating_speakers(waveforms):\n",
    "    random.shuffle(waveforms)"
   ]
  },
  {
   "cell_type": "code",
   "execution_count": 14,
   "id": "070a3ab6-a729-497a-8a68-e9fd387a01a4",
   "metadata": {},
   "outputs": [],
   "source": [
    "def measure_sample(tensor, sample_rate=default_sample_rate):\n",
    "    activity = vad({\"waveform\": tensor, \"sample_rate\": sample_rate})\n",
    "    if len(activity.get_timeline()) == 0:\n",
    "        return None\n",
    "    start = activity.get_timeline()[0].start\n",
    "    end = activity.get_timeline()[-1].end\n",
    "    return (start, end)"
   ]
  },
  {
   "cell_type": "code",
   "execution_count": 15,
   "id": "0cc4e60a-4246-4ef2-940b-5eed1a3dee3c",
   "metadata": {},
   "outputs": [
    {
     "name": "stderr",
     "output_type": "stream",
     "text": [
      "/home/lemon/.local/lib/python3.13/site-packages/pyannote/audio/utils/reproducibility.py:74: ReproducibilityWarning: TensorFloat-32 (TF32) has been disabled as it might lead to reproducibility issues and lower accuracy.\n",
      "It can be re-enabled by calling\n",
      "   >>> import torch\n",
      "   >>> torch.backends.cuda.matmul.allow_tf32 = True\n",
      "   >>> torch.backends.cudnn.allow_tf32 = True\n",
      "See https://github.com/pyannote/pyannote-audio/issues/1370 for more details.\n",
      "\n",
      "  warnings.warn(\n"
     ]
    }
   ],
   "source": [
    "timed_waveforms = []\n",
    "prev_end = 0\n",
    "\n",
    "for ind, (stc, wf, client_id) in enumerate(waveforms):\n",
    "    timings = measure_sample(wf.to(device))\n",
    "    if timings is None:\n",
    "        print(f\"{ind} has no voice detected. Skipping\")\n",
    "        continue\n",
    "    start, end = timings\n",
    "    start += prev_end\n",
    "    end += prev_end\n",
    "    timed_waveforms += [(stc, wf, client_id, start, end)]\n",
    "    prev_end += wf.size(1) / default_sample_rate\n",
    "\n",
    "concat_waveform = torch.concat([wf for stc, wf, client_id, st, end in timed_waveforms], dim=1)"
   ]
  },
  {
   "cell_type": "code",
   "execution_count": 16,
   "id": "e5d6e475-5d94-407d-b71e-b51c8ade862b",
   "metadata": {},
   "outputs": [],
   "source": [
    "reference_annotation = Annotation()\n",
    "for stc, wf, client_id, start, end in timed_waveforms:\n",
    "    reference_annotation[Segment(start, end)] = client_id[:6]"
   ]
  },
  {
   "cell_type": "code",
   "execution_count": null,
   "id": "a835371a-df87-417f-a863-8406ba624f99",
   "metadata": {},
   "outputs": [],
   "source": [
    "Audio(concat_waveform, rate=default_sample_rate)"
   ]
  },
  {
   "cell_type": "code",
   "execution_count": 18,
   "id": "780a1bf8-f5f9-46be-bb56-1e92682148cf",
   "metadata": {},
   "outputs": [],
   "source": [
    "segmentator = Pipeline.from_pretrained(\"pyannote/speaker-diarization-3.1\", use_auth_token=hf_token).to(device)"
   ]
  },
  {
   "cell_type": "code",
   "execution_count": 19,
   "id": "761e3593-ad47-4096-9cec-9320fc6dad5c",
   "metadata": {},
   "outputs": [
    {
     "name": "stderr",
     "output_type": "stream",
     "text": [
      "/home/lemon/.local/lib/python3.13/site-packages/pyannote/audio/models/blocks/pooling.py:104: UserWarning: std(): degrees of freedom is <= 0. Correction should be strictly less than the reduction factor (input numel divided by output numel). (Triggered internally at /pytorch/aten/src/ATen/native/ReduceOps.cpp:1831.)\n",
      "  std = sequences.std(dim=-1, correction=1)\n"
     ]
    }
   ],
   "source": [
    "predicted_annotation = segmentator({\"waveform\": concat_waveform, \"sample_rate\": default_sample_rate})"
   ]
  },
  {
   "cell_type": "code",
   "execution_count": 20,
   "id": "3c7bed0f-6381-42ac-a8f0-663fd9c2ca29",
   "metadata": {},
   "outputs": [
    {
     "data": {
      "image/png": "[encoded data removed]",
      "text/plain": [
       "<Figure size 2000x1000 with 2 Axes>"
      ]
     },
     "metadata": {},
     "output_type": "display_data"
    }
   ],
   "source": [
    "notebook.crop = Segment(0, 100)\n",
    "figure, ax = plt.subplots(2, 1, figsize=(20, 10))\n",
    "notebook.plot_annotation(predicted_annotation, ax=ax[0], time=True)\n",
    "notebook.plot_annotation(reference_annotation, ax=ax[1], time=True)"
   ]
  },
  {
   "cell_type": "code",
   "execution_count": 21,
   "id": "09a79cc4-10b6-4ad8-a4ff-b1d4c9791f2e",
   "metadata": {},
   "outputs": [
    {
     "data": {
      "text/plain": [
       "0.7009708737864078"
      ]
     },
     "execution_count": 21,
     "metadata": {},
     "output_type": "execute_result"
    }
   ],
   "source": [
    "SegmentationPrecision(tolerance=0.5)(reference_annotation, predicted_annotation)"
   ]
  },
  {
   "cell_type": "code",
   "execution_count": 22,
   "id": "2fa6e22d-e18e-4045-a91c-f6a4aeb31d60",
   "metadata": {},
   "outputs": [
    {
     "data": {
      "text/plain": [
       "0.9047619047619048"
      ]
     },
     "execution_count": 22,
     "metadata": {},
     "output_type": "execute_result"
    }
   ],
   "source": [
    "SegmentationRecall(tolerance=0.5)(reference_annotation, predicted_annotation)"
   ]
  },
  {
   "cell_type": "code",
   "execution_count": 23,
   "id": "d38e1afc-e25f-4399-b04b-3628a904e4db",
   "metadata": {},
   "outputs": [
    {
     "data": {
      "text/plain": [
       "0.8596911532835523"
      ]
     },
     "execution_count": 23,
     "metadata": {},
     "output_type": "execute_result"
    }
   ],
   "source": [
    "SegmentationCoverage()(reference_annotation, predicted_annotation)"
   ]
  },
  {
   "cell_type": "code",
   "execution_count": 24,
   "id": "e8dddf47-5728-4ec1-ac92-ad8291170948",
   "metadata": {},
   "outputs": [
    {
     "data": {
      "text/plain": [
       "0.9998293045289861"
      ]
     },
     "execution_count": 24,
     "metadata": {},
     "output_type": "execute_result"
    }
   ],
   "source": [
    "SegmentationPurity()(reference_annotation, predicted_annotation)"
   ]
  },
  {
   "cell_type": "code",
   "execution_count": 25,
   "id": "fa89e01e-2c9b-420a-a792-6c04cfc2b226",
   "metadata": {},
   "outputs": [
    {
     "name": "stderr",
     "output_type": "stream",
     "text": [
      "/home/lemon/.local/lib/python3.13/site-packages/pyannote/metrics/utils.py:200: UserWarning: 'uem' was approximated by the union of 'reference' and 'hypothesis' extents.\n",
      "  warnings.warn(\n"
     ]
    },
    {
     "data": {
      "text/plain": [
       "1.0096912573874552"
      ]
     },
     "execution_count": 25,
     "metadata": {},
     "output_type": "execute_result"
    }
   ],
   "source": [
    "IdentificationErrorRate()(reference_annotation, predicted_annotation)"
   ]
  },
  {
   "cell_type": "code",
   "execution_count": null,
   "id": "b42dd2de-1482-4f68-99fa-38988810271e",
   "metadata": {},
   "outputs": [],
   "source": [
    "torch_dtype = torch.float16 if torch.cuda.is_available() else torch.float32\n",
    "\n",
    "model_id = \"openai/whisper-large-v3-turbo\"\n",
    "\n",
    "model = AutoModelForSpeechSeq2Seq.from_pretrained(\n",
    "    model_id, torch_dtype=torch_dtype, low_cpu_mem_usage=True, use_safetensors=True\n",
    ")\n",
    "model.to(device)\n",
    "\n",
    "processor = AutoProcessor.from_pretrained(model_id)\n",
    "\n",
    "whisper = pipeline(\n",
    "    \"automatic-speech-recognition\",\n",
    "    model=model,\n",
    "    tokenizer=processor.tokenizer,\n",
    "    feature_extractor=processor.feature_extractor,\n",
    "    torch_dtype=torch_dtype,\n",
    "    device=device,\n",
    ")"
   ]
  },
  {
   "cell_type": "code",
   "execution_count": 27,
   "id": "66c3ead8-0807-4a1f-8e66-4ef5ac9a553a",
   "metadata": {},
   "outputs": [
    {
     "name": "stderr",
     "output_type": "stream",
     "text": [
      "/home/lemon/.local/lib/python3.13/site-packages/transformers/models/whisper/generation_whisper.py:573: FutureWarning: The input name `inputs` is deprecated. Please make sure to use `input_features` instead.\n",
      "  warnings.warn(\n",
      "Due to a bug fix in https://github.com/huggingface/transformers/pull/28687 transcription using a multilingual Whisper will default to language detection followed by transcription instead of translation to English.This might be a breaking change for your use case. If you want to instead always translate your audio to English, make sure to pass `language='en'`.\n"
     ]
    },
    {
     "data": {
      "text/plain": [
       "{'text': ' Женщины эффективно принуждают к миру.', 'language': ['ru']}"
      ]
     },
     "execution_count": 27,
     "metadata": {},
     "output_type": "execute_result"
    }
   ],
   "source": [
    "whisper({\"raw\": waveforms[0][1].numpy().reshape((-1,)), \"sampling_rate\": default_sample_rate, \"language\": \"ru\"})"
   ]
  },
  {
   "cell_type": "code",
   "execution_count": 28,
   "id": "3e9f598b-9e20-4a99-888d-63f1176ffc92",
   "metadata": {
    "scrolled": true
   },
   "outputs": [
    {
     "data": {
      "application/vnd.jupyter.widget-view+json": {
       "model_id": "63a8572a71eb4d6b8498912907e696c5",
       "version_major": 2,
       "version_minor": 0
      },
      "text/plain": [
       "  0%|          | 0/400 [00:00<?, ?it/s]"
      ]
     },
     "metadata": {},
     "output_type": "display_data"
    },
    {
     "name": "stdout",
     "output_type": "stream",
     "text": [
      "Женщины эффективно принуждают к миру.  женщины эффективно принуждают к миру\n",
      "Наша общая цель должна состоять в том, чтобы протокол стал универсальным.  Наша общая цель должна состоять в том, чтобы протокол стал универсальным.\n",
      "Дело в том, что я точно люблю каракатицу.  Дело в том, что я точно люблю каракатицу.\n",
      "В нём могут содержаться серьёзные ошибки!  В нем могут содержаться серьезные ошибки.\n",
      "Так как же, Фома Фомич?  Так как же Фома Фомичи?\n",
      "В настоящее время Камбоджа планирует увеличить число камбоджийских миротворцев, направляемых ею в другие страны.  В настоящее время Камбоджа планирует увеличить число камбоджийских миротворцев, направляемых ею в другие страны.\n",
      "Тысячи людей сплошным потоком устремляются за пределы Сирии.  Тысячи людей с плашным потоком устремляются за пределы Сирии.\n",
      "Особенно это актуально для района Сахеля.  Особенно это актуально для района Сахеля.\n"
     ]
    },
    {
     "name": "stderr",
     "output_type": "stream",
     "text": [
      "You seem to be using the pipelines sequentially on GPU. In order to maximize efficiency please use a dataset\n"
     ]
    },
    {
     "name": "stdout",
     "output_type": "stream",
     "text": [
      "Ни слова о пледе. Если король узнает о его пропаже, нам — крышка!  Не сову о пледе. Если король узнает о его пропаже, нам крышка.\n",
      "Благодарю представителя Аргентины за ее заявление.  Благодарю представителей Аргентины за ее заявление.\n",
      "Она не судья, — оправляясь говорил Степан Аркадьич.  «Она не судья», — оправляясь, говорил Степан Аркадьевич.\n",
      "Хотя еще далеко до завершения соглашения, начало переговорному процессу, безусловно, положено.  Хотя еще далеко до завершения соглашения, начало переговорному процессу безусловно положено.\n",
      "В зале с интересом смотрели фильм Терминал с Томом Хенксом.  В зале с интересом смотрели фильм «Терминал» с Томом Хэнксом.\n",
      "Но пустой голове всё трын трава.  Но в пустой голове все трынь трава.\n",
      "Я надеюсь, что вы будете стремиться сформировать как можно более широкий консенсус.  И я надеюсь, что вы будете стремиться сформировать как можно более широкий консенсус.\n",
      "Активизируются попытки подорвать конституционный порядок, установленный в результате свободного волеизъявления кубинского народа.  Активизируются попытки подорвать конституционный порядок, установленный в результате свободного волеизъявления кубинского народа.\n",
      "Пакистан также решительно привержен укреплению стабильности и мира в Афганистане.  Пакистан также решительно привержен укреплению стабильности и мира в Афганистане.\n",
      "Сирийский народ переживает аналогичную ситуацию в братской Сирии.  Сирийский народ переживает аналогичную ситуацию в братской Сирии.\n",
      "Финансирование Миссии Организации Объединенных Наций в Центральноафриканской Республике и Чаде.  финансированием миссии Организации Объединенных Наций в Центральной Африканской Республике и ЧАДе,\n",
      "Я сейчас.  Я сейчас.\n",
      "Лицо Фенечки скользнуло перед ним, такое бледное и маленькое.  Лицо фенечки скользнуло перед ним такое бледное и маленькое.\n",
      "Такие приложения нельзя запустить в кластере или суперкомпьютере  Такие приложения нельзя запустить в кластере или суперкомпьютере.\n",
      "В заключение я хотел бы еще раз поблагодарить вас за ваши усилия.  В заключение я хотел бы еще раз поблагодарить вас за ваши усилия.\n",
      "одиннадцать карандашей  11 карандашей.\n",
      "Да, сегодня я наконец-то признаюсь ей в своих чувствах.  Да, сегодня я наконец-то признаюсь ей в своих чувствах.\n",
      "Если Вы сделаете графином, значит Вы действительно меня того.  Если вы сделаете графином, значит вы действительно меня того.\n",
      "Знаешь, я очень полюбил Цыган и русские песни.  Знаешь, я очень полюбил цыган и русские песни.\n",
      "Так что ливийский кризис лишь усугубил проблемы региона.  Так что ливийский кризис лишь усугубил проблемы регионов.\n",
      "И ведь правда, что пожертвовано теперь около миллиона?  И ведь правда, что пожертвовано теперь около миллиона?\n",
      "Это единственное, о чем я прошу, единственное, к чему я призываю.  Это единственное, о чем я прошу, единственное, к чему я призываю.\n",
      "Но хорошо.  Но хорошо.\n",
      "К концу августа под лидерской ответственностью Нидерландов состоится, вероятно, второе совещание такого рода.  К концу августа под лидерской ответственность Нидерланд состоится, вероятно, второе совещание такого рода.\n",
      "Это коснулось меня лично.  Это коснулось меня лично.\n",
      "И мы все должны выступить в их поддержку.  И мы все должны выступить в их поддержку.\n",
      "Мы осознаем, что мы должны, прежде всего, опираться на свои собственные силы.  Мы осознаем, что мы должны прежде всего опираться на свои собственные силы.\n",
      "Могу скроить.  Могу скроить.\n",
      "Ну, там вроде и сидушка и руль регулируются  Ну, там вроде и сидушка, и руль регулируются.\n",
      "Адам запретил мне есть плоды с этого дерева.  Адам запретил мне есть плоды с этого дерева.\n",
      "– Ну, матушка, – возразил Иван Кузмич, – оставайся, пожалуй, коли ты на крепость нашу надеешься.  «Ну, матушка», – возразил Иван Кузьмич, – «оставайся, пожалуй, коли ты на крепость нашего надеешься».\n",
      "Российская Федерация уделяет повышенное внимание мерам по сохранению рыбных запасов и управлению ими.  Российская Федерация уделяет полученное внимание мерам по сохранению рыбных запасов и управлению именем.\n",
      "Мы призываем все государства-члены поддержать эту просьбу Совещания государств-участников и Генеральной Ассамблеи.  Мы призываем все государства-члены поддержать эту просьбу совещания государств-участников и Генеральной Ассамблеи.\n",
      "Да упокоится покойный президент с миром.  Да, упокоится покойный президент с миром.\n",
      "Верзила Вавила весело ворочал вилы.  Верзилова вилла весело ворочал виллы.\n",
      "Реакция государств-членов нас воодушевила.  Реакция государств-членов нас воодушевила.\n",
      "Пугачев выпил рюмку и сказал ему, указав на меня: «Попотчуй и его благородие».  Пугачев выпил рюмку и сказал ему, указав на меня, «По почву и его благородия».\n",
      "В заключение я хотел бы сделать два дополнительных замечания.  В заключение я хотел бы сделать два дополнительных замечания.\n",
      "Она говорила скоро, звучно и с необыкновенно правильными и прочувствованными интонациями.  Она говорила, что скоро звучно и с необыкновенно правильными и прочувствованными интонациями.\n",
      "Ему потребуется свое собственное  Ему потребуется свое собственное.\n",
      "Мы создали совет для укрепления здоровья с участием муниципалитетов и провинций.  Мы создали совет для укрепления здоровья с участием муниципалитетов и провинций.\n",
      "Найдете себе более порядочного, более честного, который не врет.  Найдите себе более порядочного, более честного, который не врет.\n",
      "Интересам всех отвечает более представительный характер Совета Безопасности.  Интересом всех отвечает более представительный характер Совета Безопасности.\n",
      "И все предметы в комнате темно-зеленые.  И все предметы в комнате темно-зеленые.\n",
      "Я испуганно обернулся к нему, не понимая.  Я испуганно вернулся к нему, не понимая.\n",
      "Европейский союз придает также важнейшее значение специальным процедурам, которые являются глазами и ушами Совета.  Европейский Союз придает также важнейшее значение специальным процедурам, которые являются глазами и ушами Совета.\n",
      "Степан Аркадьич весело улыбался.  Степан Аркадьевич весело улыбался.\n",
      "Это не новая роль, а просто новая форма.  Þetta er niða nová roll, að prostá nová forma.\n",
      "И я полагаю, что эта оценка может приблизить нас к этому пониманию.  И я полагаю, что эта оценка может приблизить нас к этому пониманию.\n",
      "После же раздражительного разговора с братом он опять вспомнил это намерение.  После же раздражительного разговора с братом он опять вспомнил это намерение.\n",
      "Как мне думается, что мы могли бы сделать это прямо сейчас.  как мне думается, что мы могли бы сделать это прямо сейчас.\n",
      "Профилактика имеет решающее значение.  Профилактика имеет решающее значение.\n",
      "Анна посмотрела на нее мокрыми от слез глазами.  Анна посмотрела на неё мокрыми от слёз глазами.\n",
      "Она первая хотела объявить ему свое и его счастье.  Она первая хотела объявить ему свое и его счастье.\n",
      "Ценю ваш напор, но моя комната наверху.  Ценю ваш напор на моя комната наверху.\n",
      "Меня посадили в тележку.  Меня посадили в тележку.\n",
      "Тринидад и Тобаго всегда выступал за урегулирование споров мирными средствами.  Тринидад и Табагов всегда выступал за урегулирование споров мировыми средствами.\n",
      "И поэтому я несколько удивлен, что эта проблема вскрывается вновь.  И поэтому я несколько удивлен, что эта проблема вскрывается вновь.\n",
      "Его аффективность чрезвычайно повышается.  и его аффективность чрезвычайно повышается.\n",
      "Вы хотите сливочное масло заменить машинным? Так и запишем, вы идиот.  Вы хотите сливочное масло заменить машинным? Так и запишем. Вы идиот.\n",
      "Сообщения противоречат друг другу, раздуваются и используются по прихоти основных центров силы.  Сообщения противоречат друг другу, раздуваются и используются по прихоти основных центров силы.\n",
      "Виноваты вы, да и я тоже.  Виноваты вы, да и я тоже.\n",
      "Однако дальнейший прогресс не должен восприниматься как нечто само собой разумеющееся.  Однако дальнейший прогресс не должен восприниматься как нечто само собой разумеющееся.\n",
      "Известие о смерти Парфена Денисыча неприятно подействовало на него.  Известие о смерти Парфена Денисовича неприятно подействовало на него.\n",
      "Все они демонстрируют предметную поддержку Австралией этого предлагаемого инструмента.  Все они демонстрируют предметную поддержку Австралии этого предлагаемого инструмента.\n",
      "Порт восемьдесят должен быть открыт  Порт 80 должен быть открыт.\n",
      "Для поддержания авторитета любого учреждения следует избегать отклонения от установленных процедур.  Для поддержания авторитета любого учреждения следует избегать отклонения от установленных процедур.\n",
      "Это существенная помощь в осуществлении Глобального плана действий по борьбе с малярией.  Это существенная помощь в осуществлении глобального плана действий по борьбе с малярией.\n",
      "В ходе наших трех недельных сессий мы постепенно сосредоточились на путях дальнейшего развития механизма.  В ходе наших трехнедельных сессий мы постепенно сосредоточились на путях дальнейшего развития механизма.\n",
      "Она тетка умная.  Ана тітка умна.\n",
      "Он открыто подтвердил деструктивную политику Армении.  Он открыто подтвердил деструктивную политику Армении.\n",
      "Следующий выступающий — Канада.  Следующий выступающий – Канада.\n",
      "Израильтяне помнят о горьких уроках Газы.  Израильтяне помнят о горьких уроках Газы.\n",
      "Концепция эта не просто моральная.  Концепция эта не просто моральная.\n",
      "Убьете, похороните — выроюсь!  Убьете, похороните, выруюсь.\n",
      "Такова моя цель, поэтому давайте стараться придерживаться этой модели.  Такова моя цель, поэтому давайте стараться придерживаться этой модели.\n",
      "Вода необходима для поддержания жизни и сохранения здоровья человека и его благополучия.  Вода необходима для поддержания жизни и сохранения здоровья человека и его благополучия.\n",
      "Воронеж — милый город  Воронеж – милый город.\n",
      "Тогда мы всем сердцем надеялись, что вскоре Конференция сможет начать свою предметную работу.  Тогда мы всем сердцем надеялись, что вскоре конференция сможет начать свою предметную работу.\n",
      "Левин хотел вступить с ним в разговор, но лакею позвонили, и он ушел.  Левин хотел вступить с ним в разговор, но Лакею позвонили и он ушел.\n",
      "Выступление президента Республики Палау.  Выступление президента Республики Палаух.\n",
      "Вообще Вы правы.  Вообще, вы правы.\n",
      "Господин Генеральный секретарь, Вам слово.  Господин генеральный секретарь, Вам слово.\n",
      "Каковы смысл и ценность такой дискуссии в начале сессии Конференции по разоружению?  Каковы смысл и цены с такой дискуссией в начале сессии конференции по разоружению?\n",
      "Нам нужны новые идеи.  Нам нужны новые идеи.\n",
      "Наше правительство подтверждает свою приверженность Уставу Организации Объединенных Наций.  Наше правительство подтверждает свою приверженность Устава Организации Объединенных Наций.\n",
      "Тем не менее всегда существуют две стороны одной медали.  Тем не менее, всегда существуют две стороны одной медали.\n",
      "Именно это требуется для обеспечения того, чтобы она играла роль, сообразную нашим устремлениям.  Именно это требуется для обеспечения того, чтобы она играла роль, сообразную нашим устремлениям.\n",
      "Сирийский народ стремится к справедливости, но его доверие и вера подорваны.  Сирийский народ стремится к справедливостям, но его доверия и вера подорваны.\n",
      "– Я не вор!  Я не вору.\n",
      "Если бы вы мне сделали честь приехать ко мне?  если бы вы мне сделали честь приехать ко мне.\n",
      "Мы должны определить надлежащие приоритеты и сосредоточить все усилия на их достижении.  Мы должны определить надлежащие приоритеты и сосредоточить все усилия на их достижениях.\n",
      "Единство является необходимым условием для достижения наших общих целей.  Единство является необходимым условием для достижения наших общих целей.\n",
      "Поэтому мы считаем, что главное в данном процессе — это проверка на благонадежность.  Поэтому мы считаем, что главное в данном процессе – это проверка на благонадежность.\n",
      "Жители Ирака, безусловно, смогут управлять своей страной, но в чьих руках сегодня их нефть?  Жители Ирака, безусловно, смогут управлять своей стороной. Но в чьих руках сегодня их нет?\n",
      "Мы наблюдаем величайшее освободительное движение со времени падения Берлинской стены.  Мы наблюдаем величайшее освободительное движение со времени падения Берлинской стены.\n",
      "В отличие от прав человека, хорошие идеи зависят от изменяющихся политических условий.  В отличие от прав человека, хорошие идеи зависят от заменяющихся политических условий.\n",
      "Ты знаешь, я понял из-за чего мы с тобой разошлись.  Ты знаешь, я понял, из-за чего мы с тобой разошлись. В настоящее время многие страны рассматривают возможные конкретные шаги для начала переговоров.\n",
      "В настоящее время многие страны рассматривают возможные конкретные шаги для начала переговоров.  В настоящее время многие страны рассматривают возможные конкретные шаги для начала переговоров.\n",
      "Да, они пели — и все кругом было красно от крови.  Да, они пели, и все кругом было красное от крови.\n",
      "Маврикий Николаевич стоял в позе всеобщего оберегателя.  Маврикий Николаевич стоял в позе всеобщего оберегателя.\n",
      "Возможно, что представитель Сирии в Интернете видел фотографии этих манекенов.  Возможно, что представитель Сирии в интернете видел фотографии этих манекенов.\n",
      "Сейчас будут распространены избирательные бюллетени.  Сейчас будут распространены избирательные бюллетени.\n",
      "Но спеху нет.  Но успеху нет.\n",
      "семьдесят семь штук  77 штук.\n",
      "Я наводил справки везде.  Я наводил справки везде.\n",
      "Мы расстались дружески.  Мы расстались дружески.\n",
      "Вселенский пожар размочалил нервы.  Вселенский пожар размочалил нервы.\n",
      "Если президенту нужны новые носки, то они у него будут, и точка!  Если президенту нужны новые носки, то они у него будут. И точка.\n",
      "Ассамблея должна иметь возможность рассматривать любой проект резолюции, рекомендованный ей Комитетом на индивидуальной основе.  Ассамблея должна иметь возможность рассматривать любой проект резолюции, рекомендованный ей комитетом на индивидуальной основе.\n",
      "Я подошел и сел опять за стол.  Я подошёл и сел опять за стол.\n",
      "Она хочет жить.  она хочет жить.\n",
      "Человечество сталкивается с реальной угрозой перманентной войны.  Человечество сталкивается с реальной угрозой перманентной войны.\n",
      "Теперь нам необходимо приступить к воплощению в жизнь на местах содержащихся в нем выводов.  Теперь нам необходимо приступить к воплощению в жизни на местах, содержащихся в нем выводах.\n",
      "– То отец, то брат, то дядя.  То отец, то брат, то дядя.\n",
      "Совет Безопасности должен отражать политические реальности двадцать первого столетия.  Совет безопасности должен отражать политические реальности 21-го столетия.\n",
      "Степан Трофимович в недоумении смотрел на обоих спорщиков.  Степан Трофимович в недоумении смотрел на обоих спорщиков.\n",
      "Здесь следует применять принцип учета интересов здравоохранения в любой политике.  Здесь следует применять принцип учета интересов здравоохранения в любой политике.\n",
      "Зурин пригласил меня отобедать с ним вместе чем бог послал, по-солдатски.  Зурин пригласил меня от обеда с ним вместе, чем Бог послал. По-солдатски.\n",
      "Германия имеет честь быть принимающим государством Программы добровольцев Организации Объединенных Наций.  Германия имеет честь быть принимающим государством программы добровольцев Организации Объединённых Наций.\n",
      "Так мой визит не требовался.  Так мой визит не требовался.\n",
      "И она серьезно озабочена сохраняющейся неспособностью этого органа выполнять свой мандат.  И она серьезно озабочена сохраняющейся неспособностью этого органа выполнять свой мандат.\n",
      "Зачем я стараюсь, тружусь?  Зачем я стараюсь, дружусь?\n",
      "Последующие меры по итогам Саммита тысячелетия.  Последующие меры по итогам саммита Тысячелетия\n",
      "Тот метод, который использовался до сегодняшнего дня, — и я взвешиваю свои слова, — не сработал.  Тот метод, который используется до сегодняшнего дня, и я взвешиваю свои слова, не сработал.\n",
      "А теперь слово имеет представитель Республики Корея.  А теперь слово имеет представитель Республики Корея.\n",
      "И им тоже закричали «ура».  И им тоже закричали «Ура!».\n",
      "Мы выражаем признательность за это.  Мы выражаем признательность за это.\n",
      "Если бы Конференции не существовало, ее бы следовало незамедлительно учредить.  Если бы конференции не существовало, ее бы следовало незамедлительно учредить.\n",
      "Формы работы добровольцев весьма разнообразны, как и условия, в которых эта работа осуществляется.  Форма работы добровольцев весьма разнообразна, как и условия, в которых эта работа осуществляется.\n",
      "Сколько потом она придумывала слов, которые она могла сказать ему!  сколько потом она придумывала слов, которые она могла сказать ему.\n",
      "Честное слово, не потом!  Честное слово, не потом.\n",
      "Не попадись, капитала наймиты.  Не попадись капиталу на эмиты.\n",
      "Белорусы никогда не откажутся от своего права на выбор.  Белорусы никогда не откажутся от своего права на выбор.\n",
      "Университет Сьерра-Леоне получил частичную аккредитацию для подготовки врачей-специалистов.  Университет Сейера-Леоне получил частично аккредитацию для подготовки врачей-специалистов.\n",
      "Как сам доклад, так и выступление служат ярким свидетельством активизировавшейся деятельности Суда.  Как сам доклад, так и выступление служат ярким свидетельством активизировавшейся деятельности суда.\n",
      "Пользуясь возможностью, я хотел бы поблагодарить делегации за их поддержку.  Пользуясь возможностью, я хотел бы поблагодарить делегации за их поддержку.\n",
      "Я рад высказаться вдобавок к этому.  Я рад высказаться вдобавок к этому.\n",
      "вечер  вечер\n",
      "Ведь все другие вопросы более или менее ясны.  Ведь все другие вопросы более или менее ясны.\n",
      "Он, кроме того, опять попал в прежнюю колею жизни.  Он, кроме того, опять попал в прежнюю колею жизни.\n",
      "В неведомых полюсах вынежим отдых.  В неведомых полюсах вынижим отдых.\n",
      "Никто лучше Левина не мог понять ее величия.  Никто лучше Левина не мог понять ее величие.\n",
      "Я рад этой возможности кратко проинформировать Генеральную Ассамблею о последних событиях в Ливии.  Я рад этой возможности кратко проинформировать Генеральную Ассамблею о последних событиях в Ливии.\n",
      "За последние десятилетия невероятными стали темпы научно-технического прогресса.  За последние десятилетия невероятными стали темпы научно-технического прогресса.\n",
      "Электронные ссылки на страницу, где можно ознакомиться с этой конвенцией, содержатся в российском выступлении.  Электронные ссылки на страницу, где можно ознакомиться с этой конверсией, содержатся в российском выступлении.\n",
      "Организация Объединенных Наций мне очень близка и дорога.  Организация Объединенных Наций мне очень близка и дорога.\n",
      "Еще какие-либо делегации?  еще какие-либо делегации.\n",
      "Я остался при своем намерении.  я остался при своем намерении\n",
      "Вы же не иноходец, а женщина.  Вы же не иноходец, а женщина.\n",
      "Но смерти матери артист побаивался, а смерти девицы артист не побаивался.  Но смерти матери артист побаивался, а смерти девицы артист не побаивался.\n",
      "Это — расстояние между Бэттери парком и Колумбийским университетом.  Это расстояние между Беттери-парком и Колумбийским университетом.\n",
      "Ты же решил уйти из-за нее.  Ты же решил уйти из-за нее.\n",
      "Арабская молодежь тоже напомнила миру о невероятной силе мирного протеста.  Арабский младенец тоже на мир на миру, а невероятное насилие мирного протеста.\n",
      "Отрицательное отношение Левина к эмансипации, банкам и железным дорогам.  Отрицательное отношение Левина к эмансипации, банкам и железным дорогам.\n",
      "Литва считает, что необходимо твердо соблюдать единые стандарты ядерной безопасности.  Литва считает, что необходимо твердо соблюдать единые стандарты ядерной безопасности.\n",
      "Оседлого населения в соответствующих районах не проживало.  Поседлого населения в соответствующих районах не проживало.\n",
      "Все это является результатом глобального потепления.  Все это является результатом глобального потепления.\n",
      "Простим друг друга.  Простим друг друга.\n",
      "Это ему наше поведение не нравится.  Это ему наше поведение не нравится.\n",
      "Теперь я перехожу к противопехотным наземным минам, которые являются наиболее опасным видом обычных вооружений.  Теперь я перехожу к противопехотным наземным минам, которые являются наиболее опасным видом обычных вооружений.\n",
      "А и правда, никакой.  А и правда никакой.\n",
      "А вы когда?  А вы когда?\n",
      "Доктор протолкался между старухами и ушел.  Доктор проторкался между старухами и ушел.\n",
      "Корейская Народно-Демократическая Республика, Индия, Израиль.  Корейская Народно-Демократическая Республика, Индия, Израиль.\n",
      "«Прочитай, так изволишь увидеть», – отвечал Савельич.  «Прочитай, так извольшь увидеть», – отвечал Савельевич.\n",
      "Империалистическая система Соединенных Штатов Америки использует борьбу с наркотиками в политических целях.  Империалистическая система Соединенных Штатов Америки использует борьбу с наркотиками в политических целях.\n",
      "Но как же это ломать, не зная даже почему?  Но как же это ломать? Не знаю даже почему.\n",
      "Ликвидация нищеты и устойчивое развитие напрямую связаны со здоровьем.  Ликвидация нищеты и устойчивое развитие напрямую связаны со здоровьем.\n",
      "Я продолжаю общаться со многими из них, и мы по-прежнему помогаем друг другу.  Я продолжаю общаться со многими из них, и мы по-прежнему помогаем друг другу.\n",
      "Вот почему мы решительно отвергаем гонку вооружений в космосе.  Вот почему мы решительно отвергаем гонку вооружений в космосе.\n",
      "Эти трехсторонние отношения необходимо и далее поощрять и укреплять.  Эти трехсторонние отношения необходимо и далее поощрять и укреплять.\n",
      "Квасу целый кувшинец выкушать изволил.  Квасу целый кувшинец выкушать изволил.\n",
      "И я его живопись тогдашнюю совершенно не любил.  Я его живопись тогдашнюю совершенно не любил.\n",
      "Во-первых, он должен обеспечить равноправное представительство развивающихся стран с точки зрения их численности.  Во-первых, он должен обеспечить равноправное представительство развивающихся стран с точки зрения их численности.\n",
      "Говорили о том робко его судьям.  Говорили о том робко его судьям.\n",
      "В процессе восстановления этого государства важная роль должна отводиться женщинам.  В процессе восстановления этого государства важная роль должна отводиться женщинам.\n",
      "Мне надоели твои ночные похождения, – говорил Георгий.  «Не надоели твои ночные похождения», — говорил Георгий.\n",
      "Скажите же, разве это возможно?  Скажите же, разве это возможно?\n",
      "Команда тестировщиков обнаружила и устранила несколько критических ошибок.  Команда тестировщиков обнаружила и устранила несколько критических ошибок.\n",
      "Система Организации Объединенных Наций и партнеры по развитию внесли важный вклад в эти достижения.  Система Организации Объединенных Наций и партнеры по развитию внесли важный вклад в эти достижения.\n",
      "А сейчас слово имеет уважаемый представитель Боливарианской Республики Венесуэла посол Херман Мундараин Эрнандес.  А сейчас слово имеет уважаемый представитель Боливарианской республики Венесуэла посол Херман Мундарарин Эрнандес.\n",
      "Мы надеялись продвинуться вперед в преодолении затянувшегося тупика.  Мы надеялись продвинуться вперед в преодолении затянувшегося тупика.\n",
      "– «Где же он?» – спросил я, готовясь повиноваться.  «Где же он?» — спросил я, готовясь повиноваться.\n",
      "До ближайшего привала нам идти ещё минимум полчаса.  До ближайшего привала нам идти еще минимум полчаса.\n",
      "Я проводил консультации в региональных группах.  Я проводил консультации в региональных группах.\n",
      "Эффективное урегулирование неустойчивых уровней задолженности развивающихся стран также имеет решающее значение.  Эффективное урегулирование неустойчивых уровней задолженности развивающихся стран также имеет решающее значение.\n",
      "Я твердо убежден в том, что бизнесы могут изменить наш мир к лучшему.  Я твердо убежден в том, что бизнесмены могут изменить наш мир к лучшему.\n",
      "В условиях кризиса мы должны осознавать опасность, но мы должны также замечать возможности.  В условиях кризиса мы должны осознавать опасность, но мы должны также замечать возможности.\n",
      "Я бы не поддержал исключение этого пункта.  Я бы не поддержал исключение этого пункта.\n",
      "Общественная поддержка Организации Объединенных Наций крайне важна для достижения успеха.  Общественная поддержка ООН крайне важна для достижения успеха.\n",
      "Теперь я хотел бы предоставить слово уважаемому представителю Российской Федерации.  Теперь я хотел бы предоставить слово уважаемому представителю Российской Федерации.\n",
      "Исполняющий обязанности Председателя: Как известно членам Ассамблеи, в Суде остается незаполненной одна вакансия.  исполняющий обязанности председателя. Как известно членам ассамблеи, в суде остается незаполненной одна вакансия.\n",
      "Такая краткосрочная чрезвычайная помощь должна быть все же увязана с долгосрочной устойчивостью.  Такая краткосрочная чрезвычайная помощь должна быть все же увязана с долгосрочной устойчивостью.\n",
      "Мы должны признать, что молодежь является неотъемлемой частью все более сложного общества.  Мы должны признать, что молодежь является неотъемлемой частью все более сложного общества.\n",
      "Его избрание свидетельствует об уважении к братскому Государству Катар и арабскому миру в целом.  Его избрание свидетельствует об уважении к братскому государству Катар и арабскому миру в целом.\n",
      "Если нет возражений, я буду считать, что Комиссия постановляет утвердить это предложение.  Если нет возражений, я буду считать, что комиссия постановляет утвердить это предложение.\n",
      "За чаем продолжался тот же приятный, полный содержания разговор.  За чаем продолжался тот же приятный, полный содержание разговор.\n",
      "Слушай, что такое?  Слушай, что такое?\n",
      "Вы мне тоже стали очень дороги, я думаю о Вас чаще, чем позволительно.  Вы мне тоже стали очень дорогие. Я думаю, о вас чаще, чем позвонительно.\n",
      "Вронский шел впереди с матерью.  Вронский шел впереди с матерью.\n",
      "Кто-то судорожно хрустнул пальцами, кто-то засмеялся, кто-то вскочил...  Кто-то сомнежно хрустнул пальцами, кто-то засмеялся, кто-то скачал.\n",
      "Я предоставляю слово представителю Республики Корея.  Я предоставляю слово представителю Республики Корея.\n",
      "Я заверяю Комитет во всемерной поддержке его работы по стороны испанской делегации.  Я заверяю комитет во всемирной поддержке его работы по стороны испанской делегации.\n",
      "Эта группа представит Совету отчет и конкретные рекомендации на его девятнадцатой очередной сессии.  Эта группа представит совету, отчет и конкретные рекомендации на его 19 очередной сессии.\n",
      "Она повернула штурвальное колесо.  Она погрынула в штурвальное колесо.\n",
      "Это влияет на принятие решений и на ее основную работу.  Это влияет на принятие решений на ее основную работу.\n",
      "Мы приветствуем госпожу Элис Ревелл в ее новом качестве координатора этих консультаций.  Мы приветствуем госпожу Элис Ревел в ее новом качестве координатора этих консультаций.\n",
      "Это право также не предоставляется.  это право также не предоставляется.\n",
      "Правосудие и борьба с безнаказанностью и коррупцией имеют непреходящее значение для успешного развития страны.  Правосудие и борьба с безнаказанностью и коррупцией имеют непреходящее значение для успешного развития страны.\n",
      "Всё существующее вне нас перестало быть в нас самих.  Все существующее вне нас перестало быть в нас самих.\n",
      "Истинный любитель природы всегда пронюхает малейшие признаки природы.  Истинный любитель природы всегда пронюхает малейшие признаки природы.\n",
      "Да, а теперь и лечите, возите к себе этих шарлатанов.  Да, теперь и лечите, возите к себе этих шарлатанов.\n",
      "Она продолжает создавать кризисы, множа свои требования и отвергая любые компромиссы и решения.  Она продолжает создавать кризисы, множа свои требования и отвергая любые компромиссы и решения.\n",
      "Подчеркивалась также необходимость поддержания высочайших стандартов ядерной защиты и безопасности.  Подчеркивалась также необходимость поддержания высочайших стандартов ядерной защиты и безопасности.\n",
      "Тут Иван Игнатьич заметил, что проговорился, и закусил язык.  Тут Иван Игнатьевич заметил, что проговорился и закусил язык.\n",
      "Теперь мне хотелось бы пояснить мотивы.  Теперь мне хотелось бы пояснить мотивы.\n",
      "А один становится стоя на лавку же.  А один становится стоя на лавку же.\n",
      "Благодарю представителя Кубы за его заявление и за теплые слова, высказанные в мой адрес.  Благодарю представителя Кубы за его заявление и за теплые слова, высказанные в мой адрес.\n",
      "Мы приветствуем самого молодого члена Организации Объединенных Наций — Республику Южный Судан.  Мы приветствуем самого молодого члена Организации Объединенных Наций – Республику Южный Судан.\n",
      "Эти реформы осуществлялись и осуществляются многими развивающимися странами, включая мою страну.  Эти реформы осуществлялись и осуществляются многими развивающимися странами, включаемые в страну.\n",
      "Позиция Монголии по вопросу реформы Совета Безопасности хорошо известна.  Позиция Монголии по вопросу реформы Совета Безопасности хорошо известна.\n",
      "Если нет возражений, я буду считать, что Комиссия принимает пересмотренную программу работы.  Если нет возражений, я буду считать, что комиссия принимает пересмотренную программу работы.\n",
      "В отношении некоторых народов на нашей планете была допущена историческая несправедливость.  В отношении некоторых народов на нашей планете была допущена историческая несправедливость.\n",
      "Тяжелая стальная дверь с грохотом захлопывается за ним.  Тяжёлая стальная дверь с грохотом захлопывается за ним.\n",
      "Идея повышения открытости и прозрачности в отношениях Конференции с гражданским обществом встречает общую поддержку.  Идея повышения открытости и прозрачности в отношении конференций с гражданским обществом встречает общую поддержку.\n",
      "Но ее комната наверху.  но ее комната наверху.\n",
      "Звучал мне долго голос нежный  Звучал мне долго голос нежный.\n",
      "Теперь что касается других важных вопросов.  Теперь, что касается других важных вопросов.\n",
      "Добровольчество вплетено в ткань африканской философии и культуры.  Добровольчество вплетено в ткани африканской философии и культуры.\n",
      "Предпринимаемые некоторыми попытки возвращения утраченной имперской славы путем злоупотребления полномочиями Совета многим представляются отвратительными.  Предпринимаемые некоторыми попытками возвращения отраченной имперской славы путем злоупотребления полномочиями Совета многим представляются отвратительными.\n",
      "«Батюшка Петр Андреич! – шептал Савельич, стоя за мною и толкая меня.  Батюшка Петр Андреевич, Талсавельич, стоя за мною, и толкает.\n",
      "Я с тобой больше не разговариваю.  Я с тобой больше не разговариваю.\n",
      "Кроме того, автором проекта стала также Объединенная Республика Танзания.  Кроме того, автором проекта стала также Объединенная Республика Танзания.\n",
      "Программа действий Организации Объединенных Наций является единственным глобальным инструментом в этой области.  Программа действия Организации Объединенных Наций является единственным глобальным инструментом в этой области.\n",
      "Как я могу желать детей?  Как я могу желать детей?\n",
      "А мы, мы – стоим.  А мы стоим.\n",
      "Мы поддерживаем многие из важных моментов, изложенных в Вашем заявлении.  Мы поддерживаем многие из важных моментов, изложенных в вашем заявлении.\n",
      "Концепция кооперативов впервые появилась в середине девятнадцатого столетия в Японии.  Концепция кооператива в Киеве появилась в середине 19-го столетия в Японии.\n",
      "Слышишь хохот и его голос?  Слышиш хохоть його голос?\n",
      "Они приносят дивиденды в виде устойчивого мира, стабильности и процветания во всем мире.  Они приносят дивиденды в виде устойчивого мира, стабильности и процветания во всем мире.\n",
      "И смысл этот, несмотря на свою ясность, таинственен и чудесен.  И смысл этот, несмотря на свою ясность, таинственен и чудесен.\n",
      "Готовы всячески способствовать этому.  Готово всячески способствует этому.\n",
      "Кроме того, были проведены два очень важных обзора.  Кроме того, были проведены два очень важных обзора.\n",
      "Толпа народа, в особенности женщин, окружала освещенную для свадьбы церковь.  Толпа народа, в особенности женщин, окружала освященную для свадьбы церковь.\n",
      "власть  Власть.\n",
      "Воспринималось все, что вокруг нас делалось с большой долей иронии и критически.  воспринималось все, что вокруг нас делалось, с большей долей иронии и критически.\n",
      "Эффективное функционирование Суда имеет очень важное значение для стран Северной Европы.  Эффективное функционирование суда имеет очень важное значение для стран Северной Европы.\n",
      "Бразилия полагает, что ценности, провозглашенные в преамбуле к Римскому статуту, имеют истинно универсальный характер.  Бразилия полагает, что ценности, провозглашённые в преамбуле к римскому статуту, имеют истинно универсальный характер.\n",
      "Я желаю всем отличных праздников.  Я желаю всем отличных праздников.\n",
      "Они не являются случайными жертвами войны.  Они не являются случайными жертвами войны.\n",
      "За ним должен наступить практический успех, торжество избранного.  За ним должен наступить практический успех, торжество избранного.\n",
      "Сделайте одолжение, располагайтесь.  Сделайте одолжение, располагайтесь.\n",
      "Это соответствует Уставу, который четко предусматривает право суверенных государств на самооборону.  Это соответствует уставу, который четко предусматривает право суверенных государств на самооборону.\n",
      "Нам надлежит на всех уровнях принимать меры по обеспечению безопасности нашей ядерной энергетики.  Нам надлежит на всех уровнях принимать меры по обеспечению безопасности нашей ядерной энергетики.\n",
      "А для этого необходима политическая воля.  А для этого необходима политическая воля.\n",
      "Встреча Левина с Кити.  Встреча Левина с Кьетти.\n",
      "пусть  Пусть.\n",
      "Я вновь настоятельно призываю правительство Израиля свернуть всю деятельность по расширению поселений.  Я вновь настоятельно призываю правительство Израиля свернуть всю деятельность по расширению поселений.\n",
      "Краеугольным камнем такой резолюции является оценка космического пространства как общего наследия человечества.  Краеугольным камнем такой резолюции является оценка космического пространства как общего наследия человечества.\n",
      "Мы также выражаем свою твердую поддержку возглавляемому Вами Бюро.  Мы также выражаем свою твердую поддержку возглавляемому вами бюро.\n",
      "Значение прочных правовых режимов по защите прав и средств реагирования на ситуацию неоспоримо.  Значение прочных правовых режимов по защите прав и средств реагирования на ситуацию неоспоримо.\n",
      "Ну и, как я понимаю, на это мероприятие приглашены и государства-наблюдатели.  Ну и как я понимаю, на это мероприятие приглашены и государственные наблюдатели.\n",
      "Вы знаете ее несчастье?  Вы знаете ее несчастье?\n",
      "Мы будем продолжать стремиться к более активному взаимодействию с этими институтами.  Мы будем продолжать стремиться к более активному взаимодействию с этими институтами.\n",
      "И они разошлись.  И они разошлись.\n",
      "Я имею отвращение к падшим женщинам.  Я имею отвращение к падшим женщинам.\n",
      "Несчастные дети, которые будут носить чужое имя.  несчастные дети, которые будут носить чужое имя.\n",
      "Я тебе его покажу.  Я тебе его покажу.\n",
      "Еврейский народ построил процветающее государство на своей исторической родине.  Европейский народ построил процветающее государство на своей исторической родине.\n",
      "Пошли! пошли! Тут вам нет места.  Пошли, пошли, тут вам нет места.\n",
      "А может быть, это потому, что я ел их сырыми?  Может быть это потому, что я ел с сырыми\n",
      "Израиль является единственным государством в регионе, которое пока еще не подписало этот Договор.  Израиль является единственным государством в регионе, которое пока еще не подписало этот договор.\n",
      "Мы надеемся на укрепление специализированных учреждений Организации Объединенных Наций и повышение их эффективности.  Мы надеемся на укрепление специализированных учреждений, организации объединенных наций, повышение их эффективности.\n",
      "Попытка выступления из нее обычно преследуется или связана с совершенно определенными условиями.  Попытка выступления из нее обычно преследуется или связана с совершенно определенными условиями.\n",
      "Мы также гордимся своим членством в Форуме тихоокеанских островов, основном региональном органе.  Мы также гордимся своим членством в форуме Тихоокеанских островов, основном региональном органе.\n",
      "Прощайте, Петр Андреич.  Прощайте, Петр Андреевич.\n",
      "Они игнорируют серьезные реформы, осуществляемые в Сирии, в том числе новый проект конституции.  Они игнорируют серьезные реформы, осуществляемые в Сирии, в том числе и новые проектные институции.\n",
      "Австралия воздает должное Агентству за его неустанные усилия по урегулированию этих вопросов.  Австралия воздает должное агентству за его неустанное усилие по урегулированию этих вопросов.\n",
      "Хотя не будем забывать и третью: дефицит политической воли к изменению правил процедуры.  Хотя не будем забывать и третью – дефицит физической боли и изменению правил процедуры.\n",
      "В настоящее время мы изучаем возможности для предоставления такого рода поддержки.  В настоящее время мы изучаем возможности для предоставления такого рода поддержки.\n",
      "Они обязаны установить персональный компьютер на рабочее место сотрудника  Они обязаны установить персональный компьютер на рабочее место сотрудника.\n",
      "Поэтому мы приветствуем эту практику и выступаем за ее продолжение.  Поэтому мы приветствуем эту практику и выступаем за ее продолжение.\n",
      "Глубинную основу спорта составляет человеческая фантазия.  Глубинную основу спорта составляет человеческая фантазия.\n",
      "Каталитическая координационная роль в развитии международного сотрудничества по Чернобылю, несомненно, принадлежит Организации Объединенных Наций.  Каталитическая координационная роль в развитии международного сотрудничества по Чернобылю, несомненно, принадлежит организации объединенных наций.\n",
      "Облонский, видимо, страдал.  Облонский, видимо, страдал.\n",
      "Португальцы очень гордятся своим участием в этих общих усилиях.  Португальцы очень гордятся своим участием в этих общих усилиях.\n",
      "– Ты ей только об этом скажи.  Ты ей только об этом скажи.\n",
      "Тело жгут руки.  Тело жгут руки.\n",
      "Невольно хотелось думать, что это нос.  Невольно хотелось думать, что это нос.\n",
      "Однако эта задача должна решаться только в контексте глобального поэтапного процесса.  Однако эта задача должна решаться только в контексте глобального поэтапного процесса.\n",
      "Волшебной палочки, которая мгновенно исправит ситуацию, не существует.  Волшебной палочки, которая мгновенно исправит ситуацию, не существует.\n",
      "Количество изнасилований в этом году снизилось в два раза.  Количество изнасилений в этом году снизилось в два раза.\n",
      "Как старый нарыв распускается гноем?  Как старый нарыв распускается гноем.\n",
      "Продолжают поступать многочисленные предложения, некоторые из которых, безусловно, дельные.  Продолжают поступать многочисленные предложения, некоторые из которых, безусловно, дельные.\n",
      "Позвольте полюбопытствовать.  Позвольте полюбопытствовать.\n",
      "Кроме того, мы замечаем, что многие делегации неоднократно высказывали в этом году свою обеспокоенность.  Кроме того, мы замечаем, что многие делегации неоднократно высказывали в этом году свою обеспокоенность.\n",
      "В моей комнате английский рукомойник, а дверь не запирается.  В моей комнате английский рукомойник, а дверь не запирается.\n",
      "Она разделяет физическую инфраструктуру на мелкие части  Она разделяет физическую инфраструктуру на мелкие части.\n",
      "Лицо ее было всё так же красиво, но тем более было оно жалко.  лицо ее было все так же красиво но тем более было оно жалко\n",
      "Коллективная политическая приверженность международного сообщества укрепит нашу решимость на самом высоком уровне.  Коллективная политическая приверженность международного сообщества укрепит нашу решимость на самом высоком уровне.\n",
      "Мы можем внести некоторые изменения.  мы можем внести некоторые изменения.\n",
      "Постой, я с тобой пойду.  Постой, я с тобой пойду.\n",
      "Что же будет?  Что же будет?\n",
      "Это прекрасное подтверждение необходимости сотрудничества между Организацией Объединенных Наций и региональными организациями.  Это прекрасное подтверждение необходимости сотрудничества между ООН и региональными организациями.\n",
      "Намибия призывает к ее немедленной и безоговорочной отмене.  Набибия призывает к ее немедленной и безоговорочной отмене.\n",
      "Мы проголосовали за принятие Израиля в качестве государства-члена.  Мы проголосовали за принятие Израиля в качестве государства-члена.\n",
      "Инстанс пользовательского приложения  Инстанц пользовательского приложения.\n",
      "Здесь, в Организации Объединенных Наций, автоматическое большинство может принять любое решение.  Здесь, в Организации Объединенных Наций, автоматическое большинство может принять любое решение.\n",
      "Он, очевидно, не приписывал болтовне Весловского никакой важности и, напротив, поощрял эти шутки.  Он, очевидно, не приписывал болтовне Весловского никакой важности и, напротив, поощрял эти шутки.\n",
      "В связи с этим я хотел бы высказать сейчас несколько соображений.  В связи с этим я хотел бы высказать сейчас несколько соображений.\n",
      "Мы надеемся, что арабские страны смогут откликнуться на требования своих народов.  Мы надеемся, что арабские страны смогут откликнуться на требования своих народов.\n",
      "Наташи и горничная, как цветок, сидели, потупив глаза от конфуза.  Наташа и горничная, как цветок, сидели потупив глаза от конфуза.\n",
      "Приехала бабушка из Израиля  Приехала бабушка из Израиля.\n",
      "Значит, я могу купить себе ветчинной колбасы и хлеб и еще останется на табак.  Значит, я могу купить себе ветчины и колбасы и хлеб. И еще останется на табак.\n",
      "Но мы не только сетуем на свою судьбу.  Но мы не только сетуем на свою судьбу.\n",
      "Это может способствовать профилактике, раннему выявлению и надлежащему лечению, не требующим больших затрат.  Это может способствовать профилактике, раннему выявлению и надлежащему лечению, не требующему больших затрат.\n",
      "Платить должны народы, государства.  Платить должны народы, государства.\n",
      "Другое соглашение было подписано в прошлом году с Европейским инвестиционным банком.  Другое соглашение было подписано в прошлом году с Европейским инвестиционным банком.\n",
      "«Маму-то ты зачем обидел?» — сурово спросил отец.  «Маму-то ты зачем обидел?» – сурово спросил отец.\n",
      "Пусть их сострадание, самоотверженность и доброта всегда вдохновляют нас.  Пусть их сострадания, самоотверженность и доброта всегда вдохновляют нас.\n",
      "Соответственно, государства-члены неоднократно признавали особый характер кооперативного движения.  Соответственно, государства члены неоднократно признавали особый характер кооперативного движения.\n",
      "Я не знаю, как должно быть, но ты делаешь не правильно.  Я не знаю, как должно быть, но ты делаешь неправильно.\n",
      "Никому не надо?  Никому не надо.\n",
      "Потом, у него на шее двое детей.  Потом у него на шее двое детей.\n",
      "Вы вверили его нашей опеке.  Вы верили его нашей опеке.\n",
      "Для этого нам нужна вся возможная помощь и поддержка.  Для этого нам нужна вся возможная помощь и поддержка.\n",
      "Это требует комплексного и социально ориентированного подхода, выходящего за рамки систем здравоохранения.  Это требует комплексного и социально ориентированного подхода, выходящего за рамки систем здравоохранения.\n",
      "Он оговаривал займы условиями.  наговаривал займы условиями.\n",
      "Вот как мы работаем.  Вот как мы работаем.\n",
      "Что ж!  Það er það.\n",
      "Пленников подвели к пустой будке на краю базарной площади.  Пленников подвели к пустой пустке на краю Базарной площади.\n",
      "Он стоял, упершись лбом в стенку вагона, и плечо его вздрагивало от рыданий.  Он стоял, упершись лбом в стенку вагона и плечо его вздрагивал от рыданий.\n",
      "Одногодичный период, отведенный для проведения прямых переговоров, истечет приблизительно в это же время.  Одногодичный период, отведенный для проведения прямых переговоров, истечет приблизительно в это же время.\n",
      "Он посмотрел на нее.  Он посмотрел на нее.\n",
      "Тут судьба моя переменилась.  Tud sūdba mėja perimenilas.\n",
      "– За тобой пришел твой товарищ.  За тобой пришел твой товарищ.\n",
      "– Казнить так казнить, миловать так миловать.  Казнить так казнить, миловать так миловать.\n",
      "Но ответа опять не последовало.  Но ответ опять не последовало.\n",
      "Наконец и он задремал в углу.  Наконец, Иоанн задремал в углу.\n",
      "Скорее, ему необходимо укрепить и контролировать свои методы работы, не изменяя своего мандата.  Скорее, ему необходимо укрепить и контролировать свои методы работы, не меняя своего мандата.\n",
      "Порой он приносит в жертву свою жизнь.  Порой он приносит в жертву свою жизнь.\n",
      "Видны были его затылок, белая длинная шея и редкие волосы.  Видны были его затылок, белая длинная шея и редкие волосы.\n",
      "Трижды бабушка прощай!  Трижды бабушка прощай.\n",
      "Это говорит о неуважении его страной положений этого Договора.  Это говорит о неуважении его стороной положения этого договора.\n",
      "Это в самом деле большой вопрос, которым мы также задаемся после наших общих прений.  Это в самом деле большой вопрос, который мы также задаемся после наших общих премий.\n",
      "Он тоже был одним из тех, которые были упомянуты Пакистаном?  Он тоже был одним из тех, которые были упомянуты Пакистаном.\n",
      "Он заглянул ей в лицо и вытер ладонью ее запачканный лоб.  Он заглянул ей в лицо и вытер ладонью ее запачканный лоб.\n",
      "Поэтому настоятельно необходимо добиться существенного прогресса, с тем чтобы противостоять этим вызовам.  Поэтому настоятельно необходимо добиться существенного прогресса с тем, чтобы противостоять этим вызовам.\n",
      "А также не является законным предлогом для того, чтобы избежать переговоров.  а также не являются законным предлогом для того, чтобы избежать переговоров.\n",
      "Только что был преодолен чрезвычайно важный порог, но работы впереди предстоит еще немало.  Только что был преодолен чрезвычайно важный порог, но работы впереди предстоит еще немало.\n",
      "Подготовка и руководство имеют важнейшее значение.  Подготовка и руководство имеют важнейшие значения.\n",
      "Намерены добиваться последовательного продвижения к этой цели.  намерены добиваться последовательного продвижения к этой цели.\n",
      "Поэтому они и сфабриковали историю о так называемом «чхонанском инциденте».  Поэтому они и сфабриковали историю о так называемом Чхананском инциденте.\n",
      "Наиболее близкородственен языку моно.  Наиболее близкородственен языку моно.\n",
      "Твой лес я знаю.  Tô, ele é assim, as naio.\n",
      "То вы инженер, то вы актер, то командир.  То вы инженер, то вы актер, то командир.\n",
      "Это также сказывается на своевременности реагирования нашей группы на Ваше предложение по этому вопросу.  Это также сказывается на своевременности реагирования нашей группы на ваше предложение по этому вопросу.\n",
      "Она с удивлением вспомнила свое вчерашнее состояние.  Она с удивлением вспомнила свое вчерашнее состояние.\n",
      "Ничто ее бы не спасло!  Ничто ее бы не спасло.\n",
      "И она — на твоей стороне.  И она на твоей стороне.\n",
      "Или ты другой любишь?  Или ты другую любишь?\n",
      "Задержка сети  Задержка сети.\n",
      "Особое внимание привлечено сейчас к ситуации в арабском мире.  Особое внимание привлечено сейчас к ситуации в арабском мире.\n",
      "Филиппины также считают, что государства должны воздерживаться от действий, которые неоднократно оказывались неэффективными.  Филиппины также считают, что государства должны воздерживаться от действий, которые неоднократно оказывались неэффективными.\n",
      "А ну-ка, соберись!  А ну-ка, соберись.\n",
      "Мы не хотим смешиваться с другими.  Мы не хотим смешиваться с другими.\n",
      "Успех Хорватии придает импульс всему процессу расширения на Балканах.  Успех Хорватии придает импульс всему процессу расширения на Балканах.\n",
      "Прилагаются усилия в попытке повторить этот успех в других странах и повсюду в мире.  прилагаются усилия в попытке повторить этот успех в других странах и повсюду в мире.\n",
      "Мы приветствуем продление мандата.  Мы приветствуем продление мандата.\n",
      "Эстония тепло приветствует эту тенденцию к всеобщему присоединению к Римскому статуту.  Эстония тепло приветствует эту тенденцию к всеобщему присоединению к Римскому статуту.\n",
      "Однако потенциальных применений ему бесчисленное множество.  Однако потенциальных применений ему бесчисленное множество.\n",
      "Людям страшно – у меня изо рта шевелит ногами непрожеванный крик.  Людям страшно, у меня изо рта шевелит ногами непрожеванный крик.\n",
      "Криворукие ебланы крепили эту хрень. Нет, ну как так вообще можно крепить? Свалится же!  Криворукие ебланы крепили эту хрень. Нет, ну как так вообще можно крепить? Свалится же.\n",
      "Наше предложение было простым.  Наше предложение было простым.\n",
      "Говорят, твоя племянница в офисе.  Говорят, что я племянница в офисе.\n",
      "Многие делегации внесли свой вклад в эту дискуссию.  Многие делегации внесли свой вклад в эту дискуссию.\n",
      "Шляпа перелетела через курятник и упала в лопухи.  Шляпа перелетела через курятника и упала в лопухи.\n",
      "Это было для него совершенно невозможно и непонятно.  Это было для него совершенно невозможно и непонятно.\n",
      "Но изменилось твое чувство ко мне, — сказала она.  Но изменилось твое чувство ко мне, сказала она.\n",
      "Права человека неразделимы и включают половые и репродуктивные права.  Права человека неразделимые включают половые и репродуктивные права.\n",
      "Я возвращаюсь к исполнению своих обязанностей Председателя Совета.  Я возвращаюсь к исполнению своих обязанностей председателя Совета.\n",
      "Намечается внутреннее примирение между соответствующими местными политическими силами.  Намечается внутреннее примирение между соответствующими местными политическими силами.\n",
      "– Нижнеозерная взята сегодня утром.  Нижнеозерное взято сегодня утром.\n",
      "Убежден, что консультации, проводимые координатором, послужат полезной платформой.  Убежден, что консультации, проводимые координатором, послужат полезной платформой.\n",
      "При согласовании общеприемлемых постулатов необходимо проявлять больше политической гибкости.  При согласовании общеприемлемых постулатов необходимо проявлять больше политической гибкости.\n",
      "Хозяйственные мероприятия Вронского.  Хозяйственные мероприятия Вронского.\n",
      "Но теперь она опять одевалась с удовольствием и волнением.  Но теперь она опять одевалась с удовольствием и волнением.\n",
      "Тем самым он в значительной степени предрешает исход дела.  Тем самым он в значительной степени предрешает исход дела.\n",
      "Пользователь работает на персональном компьютере внутри операционной системы  Пользователь работает на персональном компьютере внутри операционной системы.\n",
      "По нашему мнению, эта дискуссия должна основываться на Конвенции о биологическом разнообразии.  По нашему мнению, эта дискуссия должна основываться на конвенции о биологическом разнообразии.\n",
      "А организации, помогающие нам, должны находиться рядом с нами на местах.  А организации, помогающие нам, должны находиться рядом с нами на местах.\n"
     ]
    }
   ],
   "source": [
    "start = 0\n",
    "predicted_stc = []\n",
    "\n",
    "for stc, wf, client_id, _, _ in tqdm(timed_waveforms):\n",
    "    end = start + wf.size(1) / default_sample_rate\n",
    "    segments = [s for s in predicted_annotation.itersegments() if s.end >= start and s.start <= end]\n",
    "    snippet = torch.concat([concat_waveform.reshape((-1,))[int(s.start * default_sample_rate):int(s.end * default_sample_rate)] for s in segments])\n",
    "    predicted_sentence = whisper({\"raw\": snippet.numpy(), \"sampling_rate\": default_sample_rate, \"language\": \"ru\"})[\"text\"]\n",
    "    predicted_stc += [predicted_sentence]\n",
    "    print(stc, predicted_sentence)\n",
    "    start = end"
   ]
  },
  {
   "cell_type": "code",
   "execution_count": 40,
   "id": "110013fd-5dde-4201-9f0c-8cbef1afa5e4",
   "metadata": {},
   "outputs": [],
   "source": [
    "def tokenize(text):\n",
    "    text = text.lower()\n",
    "    tokens = word_tokenize(text, language=\"russian\")\n",
    "    tokens = [t for t in tokens if t not in string.punctuation]\n",
    "    return tokens"
   ]
  },
  {
   "cell_type": "code",
   "execution_count": 41,
   "id": "e31979a3-cb6c-49e0-988a-90893dfe8f2f",
   "metadata": {},
   "outputs": [
    {
     "data": {
      "text/plain": [
       "0.08357857912778854"
      ]
     },
     "execution_count": 41,
     "metadata": {},
     "output_type": "execute_result"
    }
   ],
   "source": [
    "predicted_tokenized = [\" \".join(tokenize(s)) for s in predicted_stc]\n",
    "reference_tokenized = [\" \".join(tokenize(s)) for s, _, _, _, _ in timed_waveforms]\n",
    "\n",
    "WordErrorRate()(predicted_tokenized, reference_tokenized).item()"
   ]
  }
 ],
 "metadata": {
  "kernelspec": {
   "display_name": "Python 3 (ipykernel)",
   "language": "python",
   "name": "python3"
  },
  "language_info": {
   "codemirror_mode": {
    "name": "ipython",
    "version": 3
   },
   "file_extension": ".py",
   "mimetype": "text/x-python",
   "name": "python",
   "nbconvert_exporter": "python",
   "pygments_lexer": "ipython3",
   "version": "3.13.2"
  }
 },
 "nbformat": 4,
 "nbformat_minor": 5
}
